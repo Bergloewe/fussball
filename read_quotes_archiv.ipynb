{
 "cells": [
  {
   "cell_type": "code",
   "execution_count": null,
   "metadata": {},
   "outputs": [],
   "source": [
    "import requests\n",
    "import bs4 as bs\n",
    "import Data_Manager as dm"
   ]
  },
  {
   "cell_type": "code",
   "execution_count": null,
   "metadata": {},
   "outputs": [],
   "source": [
    "def read_table(table, data):\n",
    "    tr = table.find_all('tr')\n",
    "    for row in tr[1:]:\n",
    "        td = row.find_all('td')\n",
    "        \n",
    "        team1_name = td[1].text[1:-1].split(' - ')[0]\n",
    "        day = tr[0].th.text\n",
    "        if team1_name == 'RasenBallsport Leipzig':\n",
    "            team1_name = 'RB Leipzig'\n",
    "        elif team1_name == 'TSG Hoffenheim':\n",
    "            team1_name = 'Hoffenheim'   \n",
    "        team1_id = dm.try_select_team_id(('%'+team1_name,))\n",
    "        if team1_id == None:\n",
    "            print(team1_name, 'nicht gefunden')\n",
    "            team1_id = (0,)\n",
    "        \n",
    "        spiel_id = dm.select_spiel_id(team1_id[0], day.split('.')[2] + '-' + day.split('.')[1] + '-' + day.split('.')[0])\n",
    "        if spiel_id == None:\n",
    "            print(team1_id, day, 'nicht gefunden')\n",
    "            spiel_id = (0,)\n",
    "            \n",
    "        data.append([day + ' ' + td[0].text, spiel_id[0] , td[4].text, td[5].text, td[6].text])\n",
    "        #TODO less hard coded"
   ]
  },
  {
   "cell_type": "code",
   "execution_count": null,
   "metadata": {},
   "outputs": [],
   "source": [
    "data = []\n",
    "url = 'https://www.wettportal.com/quotenarchiv/Fussball/Deutschland/Bundesliga/'\n",
    "website = requests.get(url)\n",
    "if website.status_code != 200:\n",
    "    print('website not found', url)\n",
    "    stop\n",
    "soup = bs.BeautifulSoup(website.text, 'lxml')\n",
    "div = soup.find_all('div', {'id': 'searchresults'})\n",
    "tables = div[0].find_all('table')\n",
    "for table in tables:\n",
    "    read_table(table, data)\n",
    "\n",
    "#dm.drop_quote()\n",
    "#dm.set_quote()\n",
    "#dm.insert_quote(data)"
   ]
  }
 ],
 "metadata": {
  "kernelspec": {
   "display_name": "Python 3",
   "language": "python",
   "name": "python3"
  },
  "language_info": {
   "codemirror_mode": {
    "name": "ipython",
    "version": 3
   },
   "file_extension": ".py",
   "mimetype": "text/x-python",
   "name": "python",
   "nbconvert_exporter": "python",
   "pygments_lexer": "ipython3",
   "version": "3.6.8"
  }
 },
 "nbformat": 4,
 "nbformat_minor": 2
}
