{
 "cells": [
  {
   "cell_type": "code",
   "execution_count": null,
   "metadata": {},
   "outputs": [],
   "source": [
    "import urllib.request\n",
    "import re\n",
    "import Data_Manager as dm"
   ]
  },
  {
   "cell_type": "code",
   "execution_count": null,
   "metadata": {},
   "outputs": [],
   "source": [
    "liga = '3liga' # 2liga , 3liga, bundesliga\n",
    "# dm.set_games()\n",
    "# dm.drop_games()\n",
    "stop = False\n",
    "for year in range(2009,2020):\n",
    "    Website = \"https://www.fussballdaten.de/\" + liga + \"/\" + str(year) + \"/1/\"\n",
    "    try:\n",
    "        w = urllib.request.urlopen(Website)\n",
    "    except:\n",
    "        print('URL unkown: ', Website)\n",
    "        stop = True\n",
    "    if stop:\n",
    "        break\n",
    "        \n",
    "    if w.code == 200:\n",
    "        html_cont = str(w.read())\n",
    "        \n",
    "    num_day = len(re.findall('option value.*?Spieltag', html_cont))\n",
    "    print(Website, 'tage: ', num_day-1)\n",
    "    del html_cont, w\n",
    "    \n",
    "    data = []\n",
    "    \n",
    "    for day in range(1,num_day):\n",
    "        \n",
    "        Webseite = \"https://www.fussballdaten.de/\" + liga + \"/\" + str(year) + \"/\" + str(day) + \"/\"\n",
    "        try:\n",
    "            w = urllib.request.urlopen(Webseite)\n",
    "        except:\n",
    "            print('URL unkown: ', Webseite)\n",
    "            stop = True\n",
    "        if stop:\n",
    "            break\n",
    "        \n",
    "        if w.code == 200:\n",
    "            html_cont = str(w.read())\n",
    "\n",
    "        cutting = re.findall('leistungsdaten.*?</table>', html_cont)\n",
    "        cutting = re.findall('<tr data-key.*?</tr>',cutting[0])\n",
    "        \n",
    "        for reihe in cutting:\n",
    "            spalte = re.findall('<td.*?</td>',reihe)\n",
    "            date = re.findall('b&gt;.*?&lt',spalte[0])[0][5:-3]\n",
    "            team1 = re.findall('xs.*?<',spalte[2])[0][3:-1]\n",
    "            if day == 1:\n",
    "                team2 = re.findall('xs.*?<',spalte[4])[0][3:-1]\n",
    "            else:\n",
    "                team2 = re.findall('xs.*?<',spalte[4])[1][3:-1]\n",
    "            ergebnis = re.findall('>.*?<',spalte[3])[2][1:-1]\n",
    "            team1 = team1.replace('\\\\xc3\\\\xbc', 'ü')\n",
    "            team1 = team1.replace('\\\\xc3\\\\xb6', 'ö')\n",
    "            team1 = team1.replace('\\\\xc3\\\\x9f', 'ß')\n",
    "            team2 = team2.replace('\\\\xc3\\\\xbc', 'ü')\n",
    "            team2 = team2.replace('\\\\xc3\\\\xb6', 'ö')\n",
    "            team2 = team2.replace('\\\\xc3\\\\x9f', 'ß')\n",
    "            tore_heim = ergebnis.split(':')[0]\n",
    "            tore_aus = ergebnis.split(':')[1]\n",
    "            data.append((team1, tore_heim, tore_aus, team2, date, liga))\n",
    "        \n",
    "    dm.insert_games(data)"
   ]
  }
 ],
 "metadata": {
  "kernelspec": {
   "display_name": "Python 3",
   "language": "python",
   "name": "python3"
  },
  "language_info": {
   "codemirror_mode": {
    "name": "ipython",
    "version": 3
   },
   "file_extension": ".py",
   "mimetype": "text/x-python",
   "name": "python",
   "nbconvert_exporter": "python",
   "pygments_lexer": "ipython3",
   "version": "3.6.8"
  }
 },
 "nbformat": 4,
 "nbformat_minor": 2
}
