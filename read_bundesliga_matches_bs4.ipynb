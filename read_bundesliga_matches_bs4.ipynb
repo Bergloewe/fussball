{
 "cells": [
  {
   "cell_type": "code",
   "execution_count": null,
   "metadata": {},
   "outputs": [],
   "source": [
    "import requests\n",
    "import bs4 as bs\n",
    "import pandas as pd\n",
    "import Data_Manager as dm\n",
    "import re"
   ]
  },
  {
   "cell_type": "code",
   "execution_count": null,
   "metadata": {},
   "outputs": [],
   "source": [
    "def write_to_db(data):     \n",
    "    if liga == 'bundesliga':\n",
    "        dm.insert_bundesliga(data)\n",
    "    elif liga == '2liga':\n",
    "        dm.insert_liga2(data)\n",
    "    elif liga == '3liga':\n",
    "        dm.insert_liga3(data)\n",
    "    else:\n",
    "        print('liga unknown')\n",
    "\n",
    "def read_table(table, data):\n",
    "    tr = table.find_all('tr')\n",
    "    for row in tr:\n",
    "        td = row.find_all('td')\n",
    "        \n",
    "        # matchen der Teamnamen mit namen und id aus der Team tabelle\n",
    "        team1_id = dm.select_team_id((td[2].a['href'].split('/')[2],))\n",
    "        if team1_id == None:\n",
    "            print(td[2].a['href'].split('/')[2], 'nicht gefunden')\n",
    "            team1_id = (0,)\n",
    "        team2_id = dm.select_team_id((td[4].a['href'].split('/')[2],))\n",
    "        if team2_id == None:\n",
    "            print(td[4].a['href'].split('/')[2], 'nicht gefunden')\n",
    "            team2_id = (0,)\n",
    "\n",
    "        data.append((team1_id[0], int(td[3].find_all('span')[0].text.split(':')[0]), int(td[3].find_all('span')[0].text.split(':')[1]) , team2_id[0], td[0].text))\n",
    "\n",
    "def num_days(soup):\n",
    "    options = soup.find_all('option')\n",
    "    days = [option.text for option in options if option.text.find('tag') != -1]\n",
    "    return len(days)"
   ]
  },
  {
   "cell_type": "code",
   "execution_count": null,
   "metadata": {
    "scrolled": true
   },
   "outputs": [],
   "source": [
    "liga = '3liga' # bundesliga, 2liga od. 3liga\n",
    "#!!reset löscht bisherige tabelle der liga, set benutzen wenn nicht existiert\n",
    "#dm.reset_spiele(liga) \n",
    "#!! für 3liga und 2liga code unten benutzen, auch set möglich\n",
    "#dm.reset_spiele(liga[1:]+liga[0])\n",
    "times = 0 # count requests to website\n",
    "for year in range(2004,2020):\n",
    "    print('Saison ', year-1, '/', year, sep = '')\n",
    "    day = 1\n",
    "    times +=1\n",
    "    num_day = -1\n",
    "    data = []\n",
    "    print('Spieltag ', day, '.', sep = '', end=' ')\n",
    "    \n",
    "    while True:\n",
    "        url = \"https://www.fussballdaten.de/\" + liga + \"/\" + str(year) + \"/\" + str(day) + \"/\"\n",
    "        website = requests.get(url) \n",
    "        if website.status_code != 200:\n",
    "            print('website not found', url)\n",
    "            break\n",
    "        soup = bs.BeautifulSoup(website.text, 'lxml')\n",
    "        table = soup.table\n",
    "        read_table(table, data) # appends on data\n",
    "        \n",
    "        if  num_day == -1:\n",
    "            num_day = num_days(soup)\n",
    "        elif day == num_day:\n",
    "            break\n",
    "        \n",
    "        day += 1\n",
    "        times += 1\n",
    "        print(day, '.', sep = '', end=' ')\n",
    "    \n",
    "    write_to_db(data)\n",
    "\n",
    "print('requests:', times)"
   ]
  }
 ],
 "metadata": {
  "kernelspec": {
   "display_name": "Python 3",
   "language": "python",
   "name": "python3"
  },
  "language_info": {
   "codemirror_mode": {
    "name": "ipython",
    "version": 3
   },
   "file_extension": ".py",
   "mimetype": "text/x-python",
   "name": "python",
   "nbconvert_exporter": "python",
   "pygments_lexer": "ipython3",
   "version": "3.6.8"
  }
 },
 "nbformat": 4,
 "nbformat_minor": 2
}
