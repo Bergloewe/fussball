{
 "cells": [
  {
   "cell_type": "code",
   "execution_count": 1,
   "metadata": {},
   "outputs": [],
   "source": [
    "import pandas as pd\n",
    "import Data_Manager as dm\n",
    "from datetime import datetime as dt"
   ]
  },
  {
   "cell_type": "code",
   "execution_count": 2,
   "metadata": {
    "scrolled": true
   },
   "outputs": [
    {
     "name": "stdout",
     "output_type": "stream",
     "text": [
      "<class 'pandas.core.frame.DataFrame'>\n",
      "Int64Index: 138 entries, 1 to 138\n",
      "Data columns (total 2 columns):\n",
      "name    138 non-null object\n",
      "link    138 non-null object\n",
      "dtypes: object(2)\n",
      "memory usage: 3.2+ KB\n"
     ]
    },
    {
     "data": {
      "text/html": [
       "<div>\n",
       "<style scoped>\n",
       "    .dataframe tbody tr th:only-of-type {\n",
       "        vertical-align: middle;\n",
       "    }\n",
       "\n",
       "    .dataframe tbody tr th {\n",
       "        vertical-align: top;\n",
       "    }\n",
       "\n",
       "    .dataframe thead th {\n",
       "        text-align: right;\n",
       "    }\n",
       "</style>\n",
       "<table border=\"1\" class=\"dataframe\">\n",
       "  <thead>\n",
       "    <tr style=\"text-align: right;\">\n",
       "      <th></th>\n",
       "      <th>name</th>\n",
       "      <th>link</th>\n",
       "    </tr>\n",
       "    <tr>\n",
       "      <th>team_id</th>\n",
       "      <th></th>\n",
       "      <th></th>\n",
       "    </tr>\n",
       "  </thead>\n",
       "  <tbody>\n",
       "    <tr>\n",
       "      <th>134</th>\n",
       "      <td>FC Bayern München II</td>\n",
       "      <td>fc-bayern-muenchen-ii</td>\n",
       "    </tr>\n",
       "    <tr>\n",
       "      <th>135</th>\n",
       "      <td>VfB Stuttgart II</td>\n",
       "      <td>vfb-stuttgart-ii</td>\n",
       "    </tr>\n",
       "    <tr>\n",
       "      <th>136</th>\n",
       "      <td>SV Werder Bremen II</td>\n",
       "      <td>sv-werder-bremen-ii</td>\n",
       "    </tr>\n",
       "    <tr>\n",
       "      <th>137</th>\n",
       "      <td>SV Elversberg</td>\n",
       "      <td>sv-elversberg</td>\n",
       "    </tr>\n",
       "    <tr>\n",
       "      <th>138</th>\n",
       "      <td>SG Sonnenhof Großaspach</td>\n",
       "      <td>sg-sonnenhof-grossaspach</td>\n",
       "    </tr>\n",
       "  </tbody>\n",
       "</table>\n",
       "</div>"
      ],
      "text/plain": [
       "                            name                      link\n",
       "team_id                                                   \n",
       "134         FC Bayern München II     fc-bayern-muenchen-ii\n",
       "135             VfB Stuttgart II          vfb-stuttgart-ii\n",
       "136          SV Werder Bremen II       sv-werder-bremen-ii\n",
       "137                SV Elversberg             sv-elversberg\n",
       "138      SG Sonnenhof Großaspach  sg-sonnenhof-grossaspach"
      ]
     },
     "execution_count": 2,
     "metadata": {},
     "output_type": "execute_result"
    }
   ],
   "source": [
    "rows = dm.read_teams() \n",
    "teams = pd.DataFrame(rows, columns=['team_id', 'name', 'link'])\n",
    "\n",
    "teams.set_index('team_id', inplace = True)\n",
    "\n",
    "teams.info()\n",
    "teams.tail()"
   ]
  },
  {
   "cell_type": "code",
   "execution_count": 3,
   "metadata": {},
   "outputs": [
    {
     "name": "stdout",
     "output_type": "stream",
     "text": [
      "<class 'pandas.core.frame.DataFrame'>\n",
      "Int64Index: 33640 entries, 1 to 33640\n",
      "Data columns (total 7 columns):\n",
      "team1_id     33640 non-null int64\n",
      "tore_heim    33640 non-null int64\n",
      "tore_aus     33640 non-null int64\n",
      "team2_id     33640 non-null int64\n",
      "liga         33640 non-null object\n",
      "datetime     33640 non-null datetime64[ns]\n",
      "tor_diff     33640 non-null int64\n",
      "dtypes: datetime64[ns](1), int64(5), object(1)\n",
      "memory usage: 2.1+ MB\n"
     ]
    },
    {
     "data": {
      "text/html": [
       "<div>\n",
       "<style scoped>\n",
       "    .dataframe tbody tr th:only-of-type {\n",
       "        vertical-align: middle;\n",
       "    }\n",
       "\n",
       "    .dataframe tbody tr th {\n",
       "        vertical-align: top;\n",
       "    }\n",
       "\n",
       "    .dataframe thead th {\n",
       "        text-align: right;\n",
       "    }\n",
       "</style>\n",
       "<table border=\"1\" class=\"dataframe\">\n",
       "  <thead>\n",
       "    <tr style=\"text-align: right;\">\n",
       "      <th></th>\n",
       "      <th>team1_id</th>\n",
       "      <th>tore_heim</th>\n",
       "      <th>tore_aus</th>\n",
       "      <th>team2_id</th>\n",
       "      <th>liga</th>\n",
       "      <th>datetime</th>\n",
       "      <th>tor_diff</th>\n",
       "    </tr>\n",
       "    <tr>\n",
       "      <th>game_id</th>\n",
       "      <th></th>\n",
       "      <th></th>\n",
       "      <th></th>\n",
       "      <th></th>\n",
       "      <th></th>\n",
       "      <th></th>\n",
       "      <th></th>\n",
       "    </tr>\n",
       "  </thead>\n",
       "  <tbody>\n",
       "    <tr>\n",
       "      <th>33636</th>\n",
       "      <td>33</td>\n",
       "      <td>2</td>\n",
       "      <td>3</td>\n",
       "      <td>61</td>\n",
       "      <td>3liga</td>\n",
       "      <td>2019-05-18</td>\n",
       "      <td>-1</td>\n",
       "    </tr>\n",
       "    <tr>\n",
       "      <th>33637</th>\n",
       "      <td>120</td>\n",
       "      <td>4</td>\n",
       "      <td>0</td>\n",
       "      <td>52</td>\n",
       "      <td>3liga</td>\n",
       "      <td>2019-05-18</td>\n",
       "      <td>4</td>\n",
       "    </tr>\n",
       "    <tr>\n",
       "      <th>33638</th>\n",
       "      <td>45</td>\n",
       "      <td>2</td>\n",
       "      <td>3</td>\n",
       "      <td>78</td>\n",
       "      <td>3liga</td>\n",
       "      <td>2019-05-18</td>\n",
       "      <td>-1</td>\n",
       "    </tr>\n",
       "    <tr>\n",
       "      <th>33639</th>\n",
       "      <td>104</td>\n",
       "      <td>1</td>\n",
       "      <td>1</td>\n",
       "      <td>29</td>\n",
       "      <td>3liga</td>\n",
       "      <td>2019-05-18</td>\n",
       "      <td>0</td>\n",
       "    </tr>\n",
       "    <tr>\n",
       "      <th>33640</th>\n",
       "      <td>131</td>\n",
       "      <td>1</td>\n",
       "      <td>2</td>\n",
       "      <td>72</td>\n",
       "      <td>3liga</td>\n",
       "      <td>2019-05-18</td>\n",
       "      <td>-1</td>\n",
       "    </tr>\n",
       "  </tbody>\n",
       "</table>\n",
       "</div>"
      ],
      "text/plain": [
       "         team1_id  tore_heim  tore_aus  team2_id   liga   datetime  tor_diff\n",
       "game_id                                                                     \n",
       "33636          33          2         3        61  3liga 2019-05-18        -1\n",
       "33637         120          4         0        52  3liga 2019-05-18         4\n",
       "33638          45          2         3        78  3liga 2019-05-18        -1\n",
       "33639         104          1         1        29  3liga 2019-05-18         0\n",
       "33640         131          1         2        72  3liga 2019-05-18        -1"
      ]
     },
     "execution_count": 3,
     "metadata": {},
     "output_type": "execute_result"
    }
   ],
   "source": [
    "rows = dm.read_games()\n",
    "games = pd.DataFrame(rows, columns = ['game_id','team1_id','tore_heim','tore_aus','team2_id','day','liga'])\n",
    "\n",
    "games['datetime'] = [dt.strptime(element, '%Y-%m-%d') for element in games['day']]\n",
    "games.drop('day', axis=1, inplace=True)\n",
    "games['tor_diff'] = games['tore_heim'] - games['tore_aus']\n",
    "games.set_index('game_id', inplace = True)\n",
    "\n",
    "games.info()\n",
    "games.tail()"
   ]
  },
  {
   "cell_type": "code",
   "execution_count": 4,
   "metadata": {},
   "outputs": [],
   "source": [
    "bl_games = games[games['liga'] == 'bundesliga']"
   ]
  },
  {
   "cell_type": "code",
   "execution_count": null,
   "metadata": {},
   "outputs": [],
   "source": []
  },
  {
   "cell_type": "code",
   "execution_count": 5,
   "metadata": {},
   "outputs": [
    {
     "name": "stdout",
     "output_type": "stream",
     "text": [
      "<class 'pandas.core.frame.DataFrame'>\n",
      "Int64Index: 1000 entries, 1 to 1000\n",
      "Data columns (total 5 columns):\n",
      "game_id       1000 non-null int64\n",
      "quote_sieg    1000 non-null object\n",
      "quote_un      1000 non-null object\n",
      "quote_lost    1000 non-null object\n",
      "datetime      1000 non-null datetime64[ns]\n",
      "dtypes: datetime64[ns](1), int64(1), object(3)\n",
      "memory usage: 46.9+ KB\n"
     ]
    },
    {
     "data": {
      "text/html": [
       "<div>\n",
       "<style scoped>\n",
       "    .dataframe tbody tr th:only-of-type {\n",
       "        vertical-align: middle;\n",
       "    }\n",
       "\n",
       "    .dataframe tbody tr th {\n",
       "        vertical-align: top;\n",
       "    }\n",
       "\n",
       "    .dataframe thead th {\n",
       "        text-align: right;\n",
       "    }\n",
       "</style>\n",
       "<table border=\"1\" class=\"dataframe\">\n",
       "  <thead>\n",
       "    <tr style=\"text-align: right;\">\n",
       "      <th></th>\n",
       "      <th>game_id</th>\n",
       "      <th>quote_sieg</th>\n",
       "      <th>quote_un</th>\n",
       "      <th>quote_lost</th>\n",
       "      <th>datetime</th>\n",
       "    </tr>\n",
       "    <tr>\n",
       "      <th>quote_id</th>\n",
       "      <th></th>\n",
       "      <th></th>\n",
       "      <th></th>\n",
       "      <th></th>\n",
       "      <th></th>\n",
       "    </tr>\n",
       "  </thead>\n",
       "  <tbody>\n",
       "    <tr>\n",
       "      <th>1</th>\n",
       "      <td>17078</td>\n",
       "      <td>1.45 (Ø 1.37)</td>\n",
       "      <td>6.15 (Ø 5.67)</td>\n",
       "      <td>8.00 (Ø 7.17)</td>\n",
       "      <td>2019-05-18 15:30:00</td>\n",
       "    </tr>\n",
       "    <tr>\n",
       "      <th>2</th>\n",
       "      <td>17073</td>\n",
       "      <td>7.00 (Ø 6.05)</td>\n",
       "      <td>5.25 (Ø 4.97)</td>\n",
       "      <td>1.50 (Ø 1.47)</td>\n",
       "      <td>2019-05-18 15:30:00</td>\n",
       "    </tr>\n",
       "    <tr>\n",
       "      <th>3</th>\n",
       "      <td>17076</td>\n",
       "      <td>4.40 (Ø 4.15)</td>\n",
       "      <td>5.00 (Ø 4.75)</td>\n",
       "      <td>1.75 (Ø 1.68)</td>\n",
       "      <td>2019-05-18 15:30:00</td>\n",
       "    </tr>\n",
       "    <tr>\n",
       "      <th>4</th>\n",
       "      <td>17077</td>\n",
       "      <td>1.40 (Ø 1.32)</td>\n",
       "      <td>6.50 (Ø 5.92)</td>\n",
       "      <td>9.10 (Ø 8.18)</td>\n",
       "      <td>2019-05-18 15:30:00</td>\n",
       "    </tr>\n",
       "    <tr>\n",
       "      <th>5</th>\n",
       "      <td>17075</td>\n",
       "      <td>1.75 (Ø 1.66)</td>\n",
       "      <td>4.50 (Ø 4.23)</td>\n",
       "      <td>5.25 (Ø 4.79)</td>\n",
       "      <td>2019-05-18 15:30:00</td>\n",
       "    </tr>\n",
       "  </tbody>\n",
       "</table>\n",
       "</div>"
      ],
      "text/plain": [
       "          game_id     quote_sieg       quote_un     quote_lost  \\\n",
       "quote_id                                                         \n",
       "1           17078  1.45 (Ø 1.37)  6.15 (Ø 5.67)  8.00 (Ø 7.17)   \n",
       "2           17073  7.00 (Ø 6.05)  5.25 (Ø 4.97)  1.50 (Ø 1.47)   \n",
       "3           17076  4.40 (Ø 4.15)  5.00 (Ø 4.75)  1.75 (Ø 1.68)   \n",
       "4           17077  1.40 (Ø 1.32)  6.50 (Ø 5.92)  9.10 (Ø 8.18)   \n",
       "5           17075  1.75 (Ø 1.66)  4.50 (Ø 4.23)  5.25 (Ø 4.79)   \n",
       "\n",
       "                    datetime  \n",
       "quote_id                      \n",
       "1        2019-05-18 15:30:00  \n",
       "2        2019-05-18 15:30:00  \n",
       "3        2019-05-18 15:30:00  \n",
       "4        2019-05-18 15:30:00  \n",
       "5        2019-05-18 15:30:00  "
      ]
     },
     "execution_count": 5,
     "metadata": {},
     "output_type": "execute_result"
    }
   ],
   "source": [
    "rows = dm.read_quotes()\n",
    "quotes = pd.DataFrame(rows, columns = ['quote_id','date','game_id','quote_sieg','quote_un','quote_lost'])\n",
    "\n",
    "quotes['datetime'] = [dt.strptime(element, '%d.%m.%Y %H:%M') for element in quotes['date']]\n",
    "quotes.drop('date', axis=1, inplace=True)\n",
    "quotes.set_index('quote_id', inplace = True)\n",
    "\n",
    "quotes.info()\n",
    "quotes.head()"
   ]
  },
  {
   "cell_type": "code",
   "execution_count": 6,
   "metadata": {},
   "outputs": [],
   "source": [
    "Spieler = pd.read_csv('SpielIDSpielerID.csv', skipinitialspace= True, names=['spiel_id', '1' , '2', '3', '4', '5', '6', '7', '8', '9', '10', '11','12', '13', '14', '15', '16', '17', '18', '19', '20', '21', '22'])\n",
    "Spieler.set_index('spiel_id', inplace =True)"
   ]
  },
  {
   "cell_type": "code",
   "execution_count": null,
   "metadata": {},
   "outputs": [],
   "source": []
  },
  {
   "cell_type": "code",
   "execution_count": 7,
   "metadata": {
    "scrolled": false
   },
   "outputs": [
    {
     "name": "stdout",
     "output_type": "stream",
     "text": [
      "<class 'pandas.core.frame.DataFrame'>\n",
      "Int64Index: 17076 entries, 1 to 17078\n",
      "Data columns (total 22 columns):\n",
      "1     17076 non-null int64\n",
      "2     17076 non-null int64\n",
      "3     17076 non-null int64\n",
      "4     17076 non-null int64\n",
      "5     17076 non-null int64\n",
      "6     17076 non-null int64\n",
      "7     17076 non-null int64\n",
      "8     17076 non-null int64\n",
      "9     17076 non-null int64\n",
      "10    17076 non-null int64\n",
      "11    17076 non-null int64\n",
      "12    17076 non-null int64\n",
      "13    17076 non-null int64\n",
      "14    17076 non-null int64\n",
      "15    17076 non-null int64\n",
      "16    17076 non-null int64\n",
      "17    17076 non-null int64\n",
      "18    17076 non-null int64\n",
      "19    17076 non-null int64\n",
      "20    17076 non-null int64\n",
      "21    17076 non-null int64\n",
      "22    17076 non-null int64\n",
      "dtypes: int64(22)\n",
      "memory usage: 3.0 MB\n"
     ]
    }
   ],
   "source": [
    "Spieler.info()"
   ]
  },
  {
   "cell_type": "code",
   "execution_count": null,
   "metadata": {
    "scrolled": true
   },
   "outputs": [],
   "source": []
  },
  {
   "cell_type": "code",
   "execution_count": 8,
   "metadata": {},
   "outputs": [],
   "source": [
    "bl_mit_spieler = bl_games.join(Spieler)"
   ]
  },
  {
   "cell_type": "code",
   "execution_count": 14,
   "metadata": {},
   "outputs": [
    {
     "name": "stdout",
     "output_type": "stream",
     "text": [
      "<class 'pandas.core.frame.DataFrame'>\n",
      "Int64Index: 17078 entries, 1 to 17078\n",
      "Data columns (total 29 columns):\n",
      "team1_id     17078 non-null int64\n",
      "tore_heim    17078 non-null int64\n",
      "tore_aus     17078 non-null int64\n",
      "team2_id     17078 non-null int64\n",
      "liga         17078 non-null object\n",
      "datetime     17078 non-null datetime64[ns]\n",
      "tor_diff     17078 non-null int64\n",
      "1            17076 non-null float64\n",
      "2            17076 non-null float64\n",
      "3            17076 non-null float64\n",
      "4            17076 non-null float64\n",
      "5            17076 non-null float64\n",
      "6            17076 non-null float64\n",
      "7            17076 non-null float64\n",
      "8            17076 non-null float64\n",
      "9            17076 non-null float64\n",
      "10           17076 non-null float64\n",
      "11           17076 non-null float64\n",
      "12           17076 non-null float64\n",
      "13           17076 non-null float64\n",
      "14           17076 non-null float64\n",
      "15           17076 non-null float64\n",
      "16           17076 non-null float64\n",
      "17           17076 non-null float64\n",
      "18           17076 non-null float64\n",
      "19           17076 non-null float64\n",
      "20           17076 non-null float64\n",
      "21           17076 non-null float64\n",
      "22           17076 non-null float64\n",
      "dtypes: datetime64[ns](1), float64(22), int64(5), object(1)\n",
      "memory usage: 4.5+ MB\n"
     ]
    }
   ],
   "source": [
    "bl_mit_spieler.info()"
   ]
  },
  {
   "cell_type": "code",
   "execution_count": 15,
   "metadata": {},
   "outputs": [],
   "source": [
    "bl_mit_spieler.to_csv('bl_mit_spieler.csv')"
   ]
  },
  {
   "cell_type": "code",
   "execution_count": null,
   "metadata": {},
   "outputs": [],
   "source": []
  }
 ],
 "metadata": {
  "kernelspec": {
   "display_name": "Python 3",
   "language": "python",
   "name": "python3"
  },
  "language_info": {
   "codemirror_mode": {
    "name": "ipython",
    "version": 3
   },
   "file_extension": ".py",
   "mimetype": "text/x-python",
   "name": "python",
   "nbconvert_exporter": "python",
   "pygments_lexer": "ipython3",
   "version": "3.6.8"
  }
 },
 "nbformat": 4,
 "nbformat_minor": 2
}
