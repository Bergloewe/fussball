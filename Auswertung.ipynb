{
 "cells": [
  {
   "cell_type": "code",
   "execution_count": null,
   "metadata": {},
   "outputs": [],
   "source": [
    "import pandas as pd\n",
    "import numpy as np\n",
    "import Data_Manager as dm\n",
    "from datetime import datetime as dt"
   ]
  },
  {
   "cell_type": "code",
   "execution_count": null,
   "metadata": {},
   "outputs": [],
   "source": [
    "rows = dm.read_teams() \n",
    "teams = pd.DataFrame(rows, columns=['team_id', 'name', 'link'])\n",
    "\n",
    "teams.set_index('team_id', inplace = True)\n",
    "\n",
    "teams.info()\n",
    "teams.head()"
   ]
  },
  {
   "cell_type": "code",
   "execution_count": null,
   "metadata": {},
   "outputs": [],
   "source": [
    "rows = dm.read_spiele('bundesliga') # bundesliga, liga3, liga2, quote\n",
    "bl = pd.DataFrame(rows, columns = ['spiel_id','team1','tore_heim','tore_aus','team2','day'])\n",
    "\n",
    "bl['datetime'] = [dt.strptime(element, '%Y-%m-%d') for element in bl['day']]\n",
    "bl.drop('day', axis=1, inplace=True)\n",
    "bl['tor_diff'] = bl['tore_heim'] - bl['tore_aus']\n",
    "bl.set_index('spiel_id', inplace = True)\n",
    "\n",
    "bl.info()\n",
    "bl.head()"
   ]
  },
  {
   "cell_type": "code",
   "execution_count": null,
   "metadata": {},
   "outputs": [],
   "source": [
    "rows = dm.read_spiele('quote') # bundesliga, liga3, liga2, quote\n",
    "bl_quote = pd.DataFrame(rows, columns = ['quote_id','date','spiel_id','quote_sieg','quote_un','quote_lost'])\n",
    "\n",
    "bl_quote['datetime'] = [dt.strptime(element, '%d.%m.%Y %H:%M') for element in bl_quote['date']]\n",
    "bl_quote.drop('date', axis=1, inplace=True)\n",
    "bl_quote.set_index('quote_id', inplace = True)\n",
    "\n",
    "bl_quote.info()\n",
    "bl_quote.head()"
   ]
  }
 ],
 "metadata": {
  "kernelspec": {
   "display_name": "Python 3",
   "language": "python",
   "name": "python3"
  },
  "language_info": {
   "codemirror_mode": {
    "name": "ipython",
    "version": 3
   },
   "file_extension": ".py",
   "mimetype": "text/x-python",
   "name": "python",
   "nbconvert_exporter": "python",
   "pygments_lexer": "ipython3",
   "version": "3.6.8"
  }
 },
 "nbformat": 4,
 "nbformat_minor": 2
}
