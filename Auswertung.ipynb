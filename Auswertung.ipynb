{
 "cells": [
  {
   "cell_type": "code",
   "execution_count": null,
   "metadata": {},
   "outputs": [],
   "source": [
    "import pandas as pd\n",
    "import Data_Manager as dm\n",
    "from datetime import datetime as dt"
   ]
  },
  {
   "cell_type": "code",
   "execution_count": null,
   "metadata": {},
   "outputs": [],
   "source": [
    "rows = dm.read_teams() \n",
    "teams = pd.DataFrame(rows, columns=['team_id', 'name', 'link'])\n",
    "\n",
    "teams.set_index('team_id', inplace = True)\n",
    "\n",
    "teams.info()\n",
    "teams.head()"
   ]
  },
  {
   "cell_type": "code",
   "execution_count": null,
   "metadata": {},
   "outputs": [],
   "source": [
    "rows = dm.read_games()\n",
    "games = pd.DataFrame(rows, columns = ['game_id','team1_id','tore_heim','tore_aus','team2_id','day','liga'])\n",
    "\n",
    "games['datetime'] = [dt.strptime(element, '%Y-%m-%d') for element in games['day']]\n",
    "games.drop('day', axis=1, inplace=True)\n",
    "games['tor_diff'] = games['tore_heim'] - games['tore_aus']\n",
    "games.set_index('game_id', inplace = True)\n",
    "\n",
    "games.info()\n",
    "games.head()"
   ]
  },
  {
   "cell_type": "code",
   "execution_count": null,
   "metadata": {},
   "outputs": [],
   "source": [
    "rows = dm.read_quotes()\n",
    "quotes = pd.DataFrame(rows, columns = ['quote_id','date','game_id','quote_sieg','quote_un','quote_lost'])\n",
    "\n",
    "quotes['datetime'] = [dt.strptime(element, '%d.%m.%Y %H:%M') for element in quotes['date']]\n",
    "quotes.drop('date', axis=1, inplace=True)\n",
    "quotes.set_index('quote_id', inplace = True)\n",
    "\n",
    "quotes.info()\n",
    "quotes.head()"
   ]
  }
 ],
 "metadata": {
  "kernelspec": {
   "display_name": "Python 3",
   "language": "python",
   "name": "python3"
  },
  "language_info": {
   "codemirror_mode": {
    "name": "ipython",
    "version": 3
   },
   "file_extension": ".py",
   "mimetype": "text/x-python",
   "name": "python",
   "nbconvert_exporter": "python",
   "pygments_lexer": "ipython3",
   "version": "3.6.8"
  }
 },
 "nbformat": 4,
 "nbformat_minor": 2
}
