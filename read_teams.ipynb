{
 "cells": [
  {
   "cell_type": "code",
   "execution_count": null,
   "metadata": {},
   "outputs": [],
   "source": [
    "import requests\n",
    "import bs4 as bs\n",
    "import Data_Manager as dm"
   ]
  },
  {
   "cell_type": "code",
   "execution_count": null,
   "metadata": {},
   "outputs": [],
   "source": [
    "def read_table(table):\n",
    "    tr = table.find_all('tr')\n",
    "    teams_new = []\n",
    "    teams = {element[1:] for element in dm.read_teams()} \n",
    "    for row in tr[1:]:\n",
    "        td = row.find_all('td') \n",
    "        teams_new.append((td[1].find_all('a')[1].text,td[1].find_all('a')[1]['href'].split('/')[2]))\n",
    "        \n",
    "    return list((set(teams_new).difference(teams)))\n",
    "    \n",
    "    #TODO less hard coded"
   ]
  },
  {
   "cell_type": "code",
   "execution_count": null,
   "metadata": {},
   "outputs": [],
   "source": [
    "#dm.drop_teams()\n",
    "#dm.set_teams()\n",
    "\n",
    "lig_list = ['bundesliga', '2liga', '3liga'] \n",
    "for liga in lig_list:\n",
    "    print('for ', liga)\n",
    "    url = 'https://www.fussballdaten.de/' + liga + '/ewige-tabelle/'\n",
    "    website = requests.get(url)\n",
    "    if website.status_code != 200:\n",
    "        print('website not found', url)\n",
    "        stop\n",
    "    soup = bs.BeautifulSoup(website.text, 'lxml')\n",
    "    table = soup.table\n",
    "    data = read_table(table)\n",
    "    dm.insert_teams(data)"
   ]
  }
 ],
 "metadata": {
  "kernelspec": {
   "display_name": "Python 3",
   "language": "python",
   "name": "python3"
  },
  "language_info": {
   "codemirror_mode": {
    "name": "ipython",
    "version": 3
   },
   "file_extension": ".py",
   "mimetype": "text/x-python",
   "name": "python",
   "nbconvert_exporter": "python",
   "pygments_lexer": "ipython3",
   "version": "3.6.8"
  }
 },
 "nbformat": 4,
 "nbformat_minor": 2
}
