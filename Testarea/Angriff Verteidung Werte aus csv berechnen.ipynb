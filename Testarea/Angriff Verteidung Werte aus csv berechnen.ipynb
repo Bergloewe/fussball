{
 "cells": [
  {
   "cell_type": "code",
   "execution_count": 21,
   "metadata": {},
   "outputs": [],
   "source": [
    "import requests\n",
    "import pandas as pd\n",
    "from bs4 import BeautifulSoup\n",
    "import urllib.request\n",
    "import time\n",
    "import csv\n",
    "import string\n",
    "import matplotlib.pyplot as plt\n",
    "import numpy as np\n",
    "import random as random\n",
    "import math as math"
   ]
  },
  {
   "cell_type": "code",
   "execution_count": 22,
   "metadata": {},
   "outputs": [],
   "source": [
    "HeimMannschaftLink = \"vfl-wolfsburg\"\n",
    "AuswMannschaftLink = \"fc-bayern-muenchen\"\n",
    "liga = \"bundesliga\""
   ]
  },
  {
   "cell_type": "code",
   "execution_count": 23,
   "metadata": {},
   "outputs": [
    {
     "name": "stdout",
     "output_type": "stream",
     "text": [
      "Heimmannschaft ist VfL Wolfsburg mit der ID 41\n",
      "Auswärtsmannschaft ist FC Bayern München mit der ID 44\n"
     ]
    }
   ],
   "source": [
    "# Mannschafts ID suchen\n",
    "\n",
    "with open('TeamID_Team.csv', 'r', newline='', encoding='utf-8') as csvfile:\n",
    "    TeamID_Team = csv.reader(csvfile, delimiter=',', quotechar='\"')\n",
    "    \n",
    "    for Team in TeamID_Team:\n",
    "        Heimgefunden = False\n",
    "        \n",
    "        if Team[2] == HeimMannschaftLink:\n",
    "            Heimgefunden = True\n",
    "            HeimMannschaft = Team[1]\n",
    "            HeimMannschaftID = Team[0]\n",
    "            print(\"Heimmannschaft ist \" + HeimMannschaft + \" mit der ID \" + HeimMannschaftID)\n",
    "            break\n",
    "\n",
    "            \n",
    "    if Heimgefunden == False:\n",
    "        print(\"Heimmannschaft nicht gefunden!\")\n",
    "\n",
    "\n",
    "with open('TeamID_Team.csv', 'r', newline='', encoding='utf-8') as csvfile:\n",
    "    TeamID_Team = csv.reader(csvfile, delimiter=',', quotechar='\"')\n",
    "        \n",
    "    for Team in TeamID_Team:\n",
    "        Auswgefunden = False\n",
    "        \n",
    "        if Team[2] == AuswMannschaftLink:\n",
    "            Auswgefunden = True\n",
    "            AuswMannschaft = Team[1]\n",
    "            AuswMannschaftID = Team[0]\n",
    "            print(\"Auswärtsmannschaft ist \" + AuswMannschaft + \" mit der ID \" + AuswMannschaftID)\n",
    "            break\n",
    "\n",
    "    if Auswgefunden == False:\n",
    "        print(\"Auswärtsmannschaft nicht gefunden!\")"
   ]
  },
  {
   "cell_type": "code",
   "execution_count": 24,
   "metadata": {},
   "outputs": [],
   "source": [
    "def HeimGewProSpielArray(SpielID_HeimID_Ergebnis_BL):\n",
    "\n",
    "    #Auslesen der SpielerIDs aus der letzten Aufstellung\n",
    "    SpielerIDsletzteAuf =[]\n",
    "    for i in range (1,12):\n",
    "        SpielerIDsletzteAuf.append(int(SpielID_HeimID_Ergebnis_BL[-1:][str(i)]))\n",
    "\n",
    "    #definiere null vektoren zum schleifen summieren\n",
    "    pos1 = np.zeros(SpielID_HeimID_Ergebnis_BL[\"1\"].shape)\n",
    "    pos2 = np.zeros(SpielID_HeimID_Ergebnis_BL[\"2\"].shape)\n",
    "    pos3 = np.zeros(SpielID_HeimID_Ergebnis_BL[\"3\"].shape)\n",
    "    pos4 = np.zeros(SpielID_HeimID_Ergebnis_BL[\"4\"].shape)\n",
    "    pos5 = np.zeros(SpielID_HeimID_Ergebnis_BL[\"5\"].shape)\n",
    "    pos6 = np.zeros(SpielID_HeimID_Ergebnis_BL[\"6\"].shape)\n",
    "    pos7 = np.zeros(SpielID_HeimID_Ergebnis_BL[\"7\"].shape)\n",
    "    pos8 = np.zeros(SpielID_HeimID_Ergebnis_BL[\"8\"].shape)\n",
    "    pos9 = np.zeros(SpielID_HeimID_Ergebnis_BL[\"9\"].shape)\n",
    "    pos10= np.zeros(SpielID_HeimID_Ergebnis_BL[\"10\"].shape)\n",
    "    pos11 = np.zeros(SpielID_HeimID_Ergebnis_BL[\"11\"].shape)\n",
    "\n",
    "\n",
    "    #Vergleichen ob ein Spieler der letzten Aufstellung auf Pos 1 bis 11 jemals gespielt hat \n",
    "    for SpielerID in SpielerIDsletzteAuf: \n",
    "        pos1 = pos1 + np.array(SpielID_HeimID_Ergebnis_BL[\"1\"] == SpielerID)\n",
    "        pos2 = pos2 + np.array(SpielID_HeimID_Ergebnis_BL[\"2\"] == SpielerID)\n",
    "        pos3 = pos3 + np.array(SpielID_HeimID_Ergebnis_BL[\"3\"] == SpielerID)\n",
    "        pos4 = pos4 + np.array(SpielID_HeimID_Ergebnis_BL[\"4\"] == SpielerID)\n",
    "        pos5 = pos5 + np.array(SpielID_HeimID_Ergebnis_BL[\"5\"] == SpielerID)\n",
    "        pos6 = pos6 + np.array(SpielID_HeimID_Ergebnis_BL[\"6\"] == SpielerID)\n",
    "        pos7 = pos7 + np.array(SpielID_HeimID_Ergebnis_BL[\"7\"] == SpielerID)\n",
    "        pos8 = pos8 + np.array(SpielID_HeimID_Ergebnis_BL[\"8\"] == SpielerID)\n",
    "        pos9 = pos9 + np.array(SpielID_HeimID_Ergebnis_BL[\"9\"] == SpielerID)\n",
    "        pos10 = pos10 + np.array(SpielID_HeimID_Ergebnis_BL[\"10\"] == SpielerID)\n",
    "        pos11 = pos11 + np.array(SpielID_HeimID_Ergebnis_BL[\"11\"] == SpielerID)\n",
    "\n",
    "    MatrixTransponiert = np.vstack((pos1,pos2,pos3,pos4,pos5,pos6,pos7,pos8,pos9,pos10,pos11))\n",
    "    Matrix = MatrixTransponiert.T\n",
    "\n",
    "    #die gewichtungen\n",
    "    GesSpiele = Matrix.shape[0]\n",
    "    GewichtungproSpiel = []\n",
    "    HeimGesamtGewicht = sum(sum(Matrix))\n",
    "    \n",
    "    for game in range(0,GesSpiele):\n",
    "        GewichtungproSpiel.append(sum(Matrix[game]))\n",
    "        \n",
    "    #Fehlermeldungen!    \n",
    "    for i in range(0,Matrix.shape[0]):\n",
    "        for j in range(0,Matrix.shape[1]):\n",
    "            if Matrix[i][j] != 1 and Matrix[i][j] != 0:\n",
    "                print(\"Matrixeintrag Zeile/Spiel \" + str(i+1)+ \" Spalte/Position \"+ str(j+1) +\" ist \" +str(Matrix[i][j]) + \" und nicht 1!\")\n",
    "\n",
    "    if sum(GewichtungproSpiel)/HeimGesamtGewicht != 1:\n",
    "        print(\" !Achtung Gewichtung hat nicht ide Länge 1! \")\n",
    "        \n",
    "    if sum(GewichtungproSpiel)/HeimGesamtGewicht == 0:\n",
    "        print(\" !Achtung Gewichtung ist für alle Spiele Null! \")\n",
    "    #Fehlermeldungen Ende!\n",
    "        \n",
    "        \n",
    "    HeimGewProSpielArr = np.array(GewichtungproSpiel)\n",
    "    return HeimGewProSpielArr, HeimGesamtGewicht"
   ]
  },
  {
   "cell_type": "code",
   "execution_count": 25,
   "metadata": {},
   "outputs": [],
   "source": [
    "def AuswGewProSpielArray(SpielID_AuswID_Ergebnis_BL):\n",
    "\n",
    "    #Auslesen der SpielerIDs aus der letzten Aufstellung\n",
    "    SpielerIDsletzteAuf =[]\n",
    "    for i in range (12,23):\n",
    "        SpielerIDsletzteAuf.append(int(SpielID_AuswID_Ergebnis_BL[-1:][str(i)]))\n",
    "\n",
    "    #definiere null vektoren zum schleifen summieren\n",
    "    pos1 = np.zeros(SpielID_AuswID_Ergebnis_BL[\"12\"].shape)\n",
    "    pos2 = np.zeros(SpielID_AuswID_Ergebnis_BL[\"13\"].shape)\n",
    "    pos3 = np.zeros(SpielID_AuswID_Ergebnis_BL[\"14\"].shape)\n",
    "    pos4 = np.zeros(SpielID_AuswID_Ergebnis_BL[\"15\"].shape)\n",
    "    pos5 = np.zeros(SpielID_AuswID_Ergebnis_BL[\"16\"].shape)\n",
    "    pos6 = np.zeros(SpielID_AuswID_Ergebnis_BL[\"17\"].shape)\n",
    "    pos7 = np.zeros(SpielID_AuswID_Ergebnis_BL[\"18\"].shape)\n",
    "    pos8 = np.zeros(SpielID_AuswID_Ergebnis_BL[\"19\"].shape)\n",
    "    pos9 = np.zeros(SpielID_AuswID_Ergebnis_BL[\"20\"].shape)\n",
    "    pos10= np.zeros(SpielID_AuswID_Ergebnis_BL[\"21\"].shape)\n",
    "    pos11 = np.zeros(SpielID_AuswID_Ergebnis_BL[\"22\"].shape)\n",
    "\n",
    "\n",
    "    #Vergleichen ob ein Spieler der letzten Aufstellung auf Pos 1 bis 11 jemals gespielt hat \n",
    "    for SpielerID in SpielerIDsletzteAuf: \n",
    "        pos1 = pos1 + np.array(SpielID_AuswID_Ergebnis_BL[\"12\"] == SpielerID)\n",
    "        pos2 = pos2 + np.array(SpielID_AuswID_Ergebnis_BL[\"13\"] == SpielerID)\n",
    "        pos3 = pos3 + np.array(SpielID_AuswID_Ergebnis_BL[\"14\"] == SpielerID)\n",
    "        pos4 = pos4 + np.array(SpielID_AuswID_Ergebnis_BL[\"15\"] == SpielerID)\n",
    "        pos5 = pos5 + np.array(SpielID_AuswID_Ergebnis_BL[\"16\"] == SpielerID)\n",
    "        pos6 = pos6 + np.array(SpielID_AuswID_Ergebnis_BL[\"17\"] == SpielerID)\n",
    "        pos7 = pos7 + np.array(SpielID_AuswID_Ergebnis_BL[\"18\"] == SpielerID)\n",
    "        pos8 = pos8 + np.array(SpielID_AuswID_Ergebnis_BL[\"19\"] == SpielerID)\n",
    "        pos9 = pos9 + np.array(SpielID_AuswID_Ergebnis_BL[\"20\"] == SpielerID)\n",
    "        pos10 = pos10 + np.array(SpielID_AuswID_Ergebnis_BL[\"21\"] == SpielerID)\n",
    "        pos11 = pos11 + np.array(SpielID_AuswID_Ergebnis_BL[\"22\"] == SpielerID)\n",
    "\n",
    "    MatrixTransponiert = np.vstack((pos1,pos2,pos3,pos4,pos5,pos6,pos7,pos8,pos9,pos10,pos11))\n",
    "    Matrix = MatrixTransponiert.T\n",
    "\n",
    "    #die Gewichtungen\n",
    "    GesSpiele = Matrix.shape[0]\n",
    "    GewichtungproSpiel = []\n",
    "    AuswGesamtGewicht = sum(sum(Matrix))\n",
    "    \n",
    "    for game in range(0,GesSpiele):\n",
    "        GewichtungproSpiel.append(sum(Matrix[game]))\n",
    "\n",
    "    #Fehlermeldungen!    \n",
    "    for i in range(0,Matrix.shape[0]):\n",
    "        for j in range(0,Matrix.shape[1]):\n",
    "            if Matrix[i][j] != 1 and Matrix[i][j] != 0:\n",
    "                print(\"Matrixeintrag Zeile/Spiel \" + str(i+1)+ \" Spalte/Position \"+ str(j+1) +\" ist \" +str(Matrix[i][j]) + \" und nicht 1!\")\n",
    "\n",
    "    if sum(GewichtungproSpiel)/AuswGesamtGewicht != 1:\n",
    "        print(\" !Achtung Gewichtung hat nicht die Länge 1! sondern \" + str(sum(GewichtungproSpiel)/AuswGesamtGewicht))\n",
    "        \n",
    "    if sum(GewichtungproSpiel)/AuswGesamtGewicht == 0:\n",
    "        print(\" !Achtung Gewichtung ist für alle Spiele Null! \")\n",
    "    #Fehlermeldungen Ende!  \n",
    "    \n",
    "    AuswGewProSpielArr = np.array(GewichtungproSpiel)\n",
    "    return AuswGewProSpielArr, AuswGesamtGewicht"
   ]
  },
  {
   "cell_type": "code",
   "execution_count": null,
   "metadata": {},
   "outputs": [],
   "source": []
  },
  {
   "cell_type": "code",
   "execution_count": 28,
   "metadata": {},
   "outputs": [
    {
     "name": "stdout",
     "output_type": "stream",
     "text": [
      "Die Heimman. VfL Wolfsburg schießt mit der letzten Aufstellung spielergewichtet 2.0 Tore mit der Standartabw. 1.12\n",
      "Die Heimman. VfL Wolfsburg kriegt mit der letzten Aufstellung spielergewichtet 1.23 Gegentore mit der Standartabw. 1.19\n"
     ]
    }
   ],
   "source": [
    "##########Berechnet den Durchschnitts Tore und Gegentore über Spieler des letzten Aufstellung############\n",
    "\n",
    "#Datenbank mit Ergbnissen und Spielern auslesen\n",
    "SpielID_TeamsID_Ergebnis = pd.read_csv(\"bl_mit_allspieler_bis2015.csv\")\n",
    "\n",
    "#Ang/Ver der HEIMMANNSCHAFT\n",
    "SpielID_HeimID_Ergebnis_BL = SpielID_TeamsID_Ergebnis[SpielID_TeamsID_Ergebnis[\"team1_id\"] == int(HeimMannschaftID)]\n",
    "\n",
    "#Berechne Array der Gewichtung pro Spiel bestimmt nach Spielern welche in der letzt Aufstellung vorkommen\n",
    "HeimGewProSpielArr, HeimGesGewicht = HeimGewProSpielArray(SpielID_HeimID_Ergebnis_BL)\n",
    "\n",
    "#gewichtete Standartabweichung berechnen\n",
    "\n",
    "HeimMann_GewDsTore = sum(np.array(SpielID_HeimID_Ergebnis_BL[\"tore_heim\"])*HeimGewProSpielArr/HeimGesGewicht)\n",
    "StAbHeimTore = (sum(np.array((SpielID_HeimID_Ergebnis_BL[\"tore_heim\"]-HeimMann_GewDsTore)**2)*HeimGewProSpielArr/sum(HeimGewProSpielArr)))**0.5\n",
    "print(\"Die Heimman. \" + HeimMannschaft + \" schießt mit der letzten Aufstellung spielergewichtet \" + str(round(HeimMann_GewDsTore,2)) + \" Tore mit der Standartabw. \" + str(round(StAbHeimTore,2)))\n",
    "\n",
    "HeimMann_GewDsGegenTore = sum(np.array(SpielID_HeimID_Ergebnis_BL[\"tore_aus\"])*HeimGewProSpielArr/HeimGesGewicht)\n",
    "StAbHeimGegTore = (sum(np.array((SpielID_HeimID_Ergebnis_BL[\"tore_aus\"]-HeimMann_GewDsGegenTore)**2)*HeimGewProSpielArr/sum(HeimGewProSpielArr)))**0.5\n",
    "print(\"Die Heimman. \" + HeimMannschaft + \" kriegt mit der letzten Aufstellung spielergewichtet \" + str(round(HeimMann_GewDsGegenTore,2)) + \" Gegentore mit der Standartabw. \" + str(round(StAbHeimGegTore,2))) \n"
   ]
  },
  {
   "cell_type": "code",
   "execution_count": 30,
   "metadata": {},
   "outputs": [
    {
     "name": "stdout",
     "output_type": "stream",
     "text": [
      "Die Auswärtsman. FC Bayern München schießt mit der letzten Aufstellung spielergewichtet 2.08 Tore mit der Standartabw. 1.61\n",
      "Die Auswärtsman. FC Bayern München kriegt mit der letzten Aufstellung spielergewichtet 0.77 Tore mit der Standartabw. 0.97\n"
     ]
    }
   ],
   "source": [
    "#Ang/Ver der AUSWÄRTSMANNSCHAFT\n",
    "SpielID_AuswID_Ergebnis_BL = SpielID_TeamsID_Ergebnis[SpielID_TeamsID_Ergebnis[\"team2_id\"] == int(AuswMannschaftID)]\n",
    "\n",
    "#Berechne Array der Gewichtung pro Spiel bestimmt nach Spielern welche in der letzt Aufstellung vorkommen\n",
    "AuswGewProSpielArr, AuswGesGewicht = AuswGewProSpielArray(SpielID_AuswID_Ergebnis_BL)\n",
    "\n",
    "\n",
    "AuswMann_GewDsTore = sum(np.array(SpielID_AuswID_Ergebnis_BL[\"tore_aus\"])*AuswGewProSpielArr/AuswGesGewicht)\n",
    "StAbAuswTore = (sum(np.array((SpielID_AuswID_Ergebnis_BL[\"tore_aus\"]-AuswMann_GewDsTore)**2)*AuswGewProSpielArr/sum(AuswGewProSpielArr)))**0.5\n",
    "print(\"Die Auswärtsman. \" + AuswMannschaft + \" schießt mit der letzten Aufstellung spielergewichtet \" + str(round(AuswMann_GewDsTore,2)) + \" Tore mit der Standartabw. \" + str(round(StAbAuswTore,2))) \n",
    "\n",
    "AuswMann_GewDsGegenTore = sum(np.array(SpielID_AuswID_Ergebnis_BL[\"tore_heim\"])*AuswGewProSpielArr/AuswGesGewicht)\n",
    "StAbAuswGegTore = (sum(np.array((SpielID_AuswID_Ergebnis_BL[\"tore_heim\"]-AuswMann_GewDsGegenTore)**2)*AuswGewProSpielArr/sum(AuswGewProSpielArr)))**0.5\n",
    "print(\"Die Auswärtsman. \" + AuswMannschaft + \" kriegt mit der letzten Aufstellung spielergewichtet \" + str(round(AuswMann_GewDsGegenTore,2)) + \" Tore mit der Standartabw. \" + str(round(StAbAuswGegTore,2))) \n"
   ]
  },
  {
   "cell_type": "code",
   "execution_count": 31,
   "metadata": {},
   "outputs": [],
   "source": [
    "#Berechnet den Durchschnitts Tore und Gegentore über All time\n",
    "SpielID_TeamsID_Ergebnis = pd.read_csv(\"bl_mit_allspieler_bis2015.csv\")\n",
    "\n",
    "SpielID_TeamsID_Ergebnis_BL = SpielID_TeamsID_Ergebnis[SpielID_TeamsID_Ergebnis[\"liga\"] == liga]\n",
    "\n",
    "SpielID_HeimID_Ergebnis_BL = SpielID_TeamsID_Ergebnis_BL[SpielID_TeamsID_Ergebnis_BL[\"team1_id\"] == int(HeimMannschaftID)]\n",
    "SpielID_AuswID_Ergebnis_BL = SpielID_TeamsID_Ergebnis_BL[SpielID_TeamsID_Ergebnis_BL[\"team2_id\"] == int(AuswMannschaftID)]\n",
    "\n",
    "HeimMann_DsTore = sum(SpielID_HeimID_Ergebnis_BL[\"tore_heim\"])/len(SpielID_HeimID_Ergebnis_BL[\"tore_heim\"])\n",
    "HeimMann_DsGegenTore = sum(SpielID_HeimID_Ergebnis_BL[\"tore_aus\"])/len(SpielID_HeimID_Ergebnis_BL[\"tore_aus\"])\n",
    "\n",
    "AuswMann_DsTore = sum(SpielID_AuswID_Ergebnis_BL[\"tore_aus\"])/len(SpielID_AuswID_Ergebnis_BL[\"tore_aus\"])\n",
    "AuswMann_DsGegenTore = sum(SpielID_AuswID_Ergebnis_BL[\"tore_heim\"])/len(SpielID_AuswID_Ergebnis_BL[\"tore_heim\"])"
   ]
  },
  {
   "cell_type": "code",
   "execution_count": 32,
   "metadata": {},
   "outputs": [
    {
     "name": "stdout",
     "output_type": "stream",
     "text": [
      "Die Heimmannschaft VfL Wolfsburg schießt durschnittlich 1.83 Tore und erhält 1.24 Gegentore.\n",
      "Die Auswärtsmannschaft FC Bayern München schießt durschnittlich 1.66 Tore und erhält 1.33 Gegentore.\n"
     ]
    }
   ],
   "source": [
    "print( \"Die Heimmannschaft \" + HeimMannschaft + \" schießt durschnittlich \" + str(round(HeimMann_DsTore,2)) + \" Tore und erhält \" +  str(round(HeimMann_DsGegenTore,2)) + \" Gegentore.\")\n",
    "print( \"Die Auswärtsmannschaft \" + AuswMannschaft + \" schießt durschnittlich \" + str(round(AuswMann_DsTore,2)) + \" Tore und erhält \" +  str(round(AuswMann_DsGegenTore,2)) + \" Gegentore.\")"
   ]
  },
  {
   "cell_type": "code",
   "execution_count": 33,
   "metadata": {},
   "outputs": [
    {
     "name": "stdout",
     "output_type": "stream",
     "text": [
      "Einfaches Prog.mod. Endergbnis zw. VfL Wolfsburg gegen FC Bayern München: 1.561 : 1.433\n"
     ]
    }
   ],
   "source": [
    "print(\"Einfaches Prog.mod. Endergbnis zw. \" + HeimMannschaft + \" gegen \" + AuswMannschaft + \": \" + str(round((HeimMann_DsTore*AuswMann_DsGegenTore)**0.5, 3)) + \" : \" + str(round((AuswMann_DsTore*HeimMann_DsGegenTore)**0.5, 3)))"
   ]
  },
  {
   "cell_type": "code",
   "execution_count": 34,
   "metadata": {},
   "outputs": [
    {
     "name": "stdout",
     "output_type": "stream",
     "text": [
      "Spielergewichtete Prog.mod. Endergbnis zw. VfL Wolfsburg gegen FC Bayern München: 1.241 : 1.601\n"
     ]
    }
   ],
   "source": [
    "print(\"Spielergewichtete Prog.mod. Endergbnis zw. \" + HeimMannschaft + \" gegen \" + AuswMannschaft + \": \" + str(round((HeimMann_GewDsTore*AuswMann_GewDsGegenTore)**0.5, 3)) + \" : \" + str(round((AuswMann_GewDsTore*HeimMann_GewDsGegenTore)**0.5, 3)))"
   ]
  },
  {
   "cell_type": "code",
   "execution_count": 97,
   "metadata": {},
   "outputs": [],
   "source": []
  },
  {
   "cell_type": "code",
   "execution_count": null,
   "metadata": {},
   "outputs": [],
   "source": []
  }
 ],
 "metadata": {
  "kernelspec": {
   "display_name": "Python 3",
   "language": "python",
   "name": "python3"
  },
  "language_info": {
   "codemirror_mode": {
    "name": "ipython",
    "version": 3
   },
   "file_extension": ".py",
   "mimetype": "text/x-python",
   "name": "python",
   "nbconvert_exporter": "python",
   "pygments_lexer": "ipython3",
   "version": "3.7.1"
  }
 },
 "nbformat": 4,
 "nbformat_minor": 2
}
