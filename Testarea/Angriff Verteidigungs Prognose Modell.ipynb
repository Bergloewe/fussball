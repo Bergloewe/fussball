{
 "cells": [
  {
   "cell_type": "code",
   "execution_count": 20,
   "metadata": {},
   "outputs": [],
   "source": [
    "import matplotlib.pyplot as plt\n",
    "import numpy as np\n",
    "import random as random\n",
    "import math as math"
   ]
  },
  {
   "cell_type": "code",
   "execution_count": 21,
   "metadata": {},
   "outputs": [
    {
     "name": "stdout",
     "output_type": "stream",
     "text": [
      "Wolfsburg 1.2141663806908838 : 1.6997058569058354 Bayern\n"
     ]
    }
   ],
   "source": [
    "HeimMannschaft = \"Wolfsburg\"\n",
    "AusMannschaft = \"Bayern\"\n",
    "TorGeschHeim = 1.89\n",
    "TorGeschAus = 2.14\n",
    "GegentoreHeim = 1.35\n",
    "GegentoreAus = 0.78\n",
    "\n",
    "PrgTorHeim =  ( TorGeschHeim * GegentoreAus  ) ** 0.5\n",
    "PrgTorAus  =  ( TorGeschAus  * GegentoreHeim ) ** 0.5\n",
    "\n",
    "print( HeimMannschaft + \" \" + str(PrgTorHeim) + \" : \" + str(PrgTorAus)+ \" \" + AusMannschaft)"
   ]
  },
  {
   "cell_type": "code",
   "execution_count": 22,
   "metadata": {},
   "outputs": [],
   "source": [
    "# Formel der Poisson-Verteilung\n",
    "def poisson(k, lambda_):\n",
    "    return (math.exp(-1*lambda_) * lambda_**k) / math.factorial(k)"
   ]
  },
  {
   "cell_type": "code",
   "execution_count": 23,
   "metadata": {},
   "outputs": [
    {
     "name": "stdout",
     "output_type": "stream",
     "text": [
      "Das Ergebnis 0 : 0 tritt zu 5.426519478388549 % ein.\n",
      "Das Ergebnis 0 : 1 tritt zu 9.223486940030616 % ein.\n",
      "Das Ergebnis 0 : 2 tritt zu 7.838607386532261 % ein.\n",
      "Das Ergebnis 0 : 3 tritt zu 4.441108961624742 % ein.\n",
      "Das Ergebnis 0 : 4 tritt zu 1.8871447283076417 % ein.\n",
      "Das Ergebnis 0 : 5 tritt zu 0.641518189506694 % ein.\n",
      "Das Ergebnis 1 : 0 tritt zu 6.5886975148236075 % ein.\n",
      "Das Ergebnis 1 : 1 tritt zu 11.198847755326609 % ein.\n",
      "Das Ergebnis 1 : 2 tritt zu 9.517373560162703 % ein.\n",
      "Das Ergebnis 1 : 3 tritt zu 5.392245194189763 % ein.\n",
      "Das Ergebnis 1 : 4 tritt zu 2.2913076846091704 % ein.\n",
      "Das Ergebnis 1 : 5 tritt zu 0.7789098183007113 % ein.\n",
      "Das Ergebnis 2 : 0 tritt zu 3.9998875075202003 % ein.\n",
      "Das Ergebnis 2 : 1 tritt zu 6.798632223496568 % ein.\n",
      "Das Ergebnis 2 : 2 tritt zu 5.77783750461293 % ein.\n",
      "Das Ergebnis 2 : 3 tritt zu 3.2735414156135976 % ein.\n",
      "Das Ergebnis 2 : 4 tritt zu 1.391014379235563 % ein.\n",
      "Das Ergebnis 2 : 5 tritt zu 0.47286305748538426 % ein.\n",
      "Das Ergebnis 3 : 0 tritt zu 1.6188429793921606 % ein.\n",
      "Das Ergebnis 3 : 1 tritt zu 2.7515568934837478 % ein.\n",
      "Das Ergebnis 3 : 2 tritt zu 2.3384186837319763 % ein.\n",
      "Das Ergebnis 3 : 3 tritt zu 1.3248746442124248 % ein.\n",
      "Das Ergebnis 3 : 4 tritt zu 0.5629742981084732 % ein.\n",
      "Das Ergebnis 3 : 5 tritt zu 0.19137814235648476 % ein.\n",
      "Das Ergebnis 4 : 0 tritt zu 0.49138618029885667 % ein.\n",
      "Das Ergebnis 4 : 1 tritt zu 0.8352119686565536 % ein.\n",
      "Das Ergebnis 4 : 2 tritt zu 0.7098073374416985 % ein.\n",
      "Das Ergebnis 4 : 3 tritt zu 0.40215456290813056 % ein.\n",
      "Das Ergebnis 4 : 4 tritt zu 0.1708861164890889 % ein.\n",
      "Das Ergebnis 4 : 5 tritt zu 0.05809122661207946 % ein.\n",
      "Das Ergebnis 5 : 0 tritt zu 0.11932491601099615 % ein.\n",
      "Das Ergebnis 5 : 1 tritt zu 0.20281725861868707 % ein.\n",
      "Das Ergebnis 5 : 2 tritt zu 0.172364841177884 % ein.\n",
      "Das Ergebnis 5 : 3 tritt zu 0.09765651002489784 % ein.\n",
      "Das Ergebnis 5 : 4 tritt zu 0.04149683551357557 % ein.\n",
      "Das Ergebnis 5 : 5 tritt zu 0.014106482873096491 % ein.\n"
     ]
    }
   ],
   "source": [
    "for TheoHeimTore in range(0,6):\n",
    "    for TheoAusTore in range(0,6):\n",
    "        p = poisson(TheoHeimTore, PrgTorHeim)*poisson(TheoAusTore, PrgTorAus)\n",
    "        \n",
    "        print(\"Das Ergebnis \" + str(TheoHeimTore) + \" : \" +  str(TheoAusTore) + \" tritt zu \" + str(p*100) + \" % ein.\"  )"
   ]
  },
  {
   "cell_type": "code",
   "execution_count": 24,
   "metadata": {},
   "outputs": [
    {
     "data": {
      "image/png": "[encoded data removed]",
      "text/plain": [
       "<Figure size 432x288 with 1 Axes>"
      ]
     },
     "metadata": {
      "needs_background": "light"
     },
     "output_type": "display_data"
    }
   ],
   "source": [
    "Ergebnis = []\n",
    "p = []\n",
    "maxTore = 5\n",
    "\n",
    "#Wahrscheinlichkeiten berechnen\n",
    "for TheoHeimTore in range(0,maxTore):\n",
    "    for TheoAusTore in range(0,maxTore):\n",
    "        Ergebnis.append(str(TheoHeimTore) + \" : \" + str(TheoAusTore))\n",
    "        p.append(poisson(TheoHeimTore, PrgTorHeim)*poisson(TheoAusTore, PrgTorAus))\n",
    "        \n",
    "#Balkendiagram\n",
    "index = np.arange(len(Ergebnis))\n",
    "bar_width = 1\n",
    "plt.bar(Ergebnis, p, align='edge', color=\"green\")\n",
    "plt.show()\n"
   ]
  },
  {
   "cell_type": "code",
   "execution_count": 25,
   "metadata": {},
   "outputs": [
    {
     "data": {
      "image/png": "[encoded data removed]",
      "text/plain": [
       "<Figure size 432x288 with 1 Axes>"
      ]
     },
     "metadata": {
      "needs_background": "light"
     },
     "output_type": "display_data"
    }
   ],
   "source": [
    "#Farbfeld\n",
    "TheoHeimTore, TheoAusTore = np.arange(5), np.arange(5)\n",
    "Feld = [[0] * maxTore for i in range(maxTore)]\n",
    "\n",
    "for TheoHeimTore in range(0,maxTore):\n",
    "    for TheoAusTore in range(0,maxTore):\n",
    "        Feld[TheoHeimTore][TheoAusTore] = poisson(TheoHeimTore, PrgTorHeim)*poisson(TheoAusTore, PrgTorAus)*100\n",
    "        \n",
    "\n",
    "plt.ylabel('Heimmanschaft: ' + HeimMannschaft)  \n",
    "plt.xlabel('Auswärtsmannschaft: '+ AusMannschaft)\n",
    "plt.pcolor(Feld)\n",
    "plt.show()"
   ]
  },
  {
   "cell_type": "code",
   "execution_count": 18,
   "metadata": {},
   "outputs": [
    {
     "name": "stdout",
     "output_type": "stream",
     "text": [
      "Das Ergebnis 1 : 1 hat die höchste Wahrscheinlichkeit mit 11.198847755326609 %.\n"
     ]
    }
   ],
   "source": [
    "#Sucht maximal Wahrscheinlichkeit mit Ergebnis\n",
    "for TheoHeimTore in range(0,maxTore):\n",
    "    for TheoAusTore in range(0,maxTore):\n",
    "        if max(p) == poisson(TheoHeimTore, PrgTorHeim)*poisson(TheoAusTore, PrgTorAus):\n",
    "            print( \"Das Ergebnis \" + str(TheoHeimTore) +  \" : \"  + str(TheoAusTore) + \" hat die höchste Wahrscheinlichkeit mit \" + str(max(p)*100) + \" %.\")"
   ]
  },
  {
   "cell_type": "code",
   "execution_count": 19,
   "metadata": {},
   "outputs": [
    {
     "name": "stdout",
     "output_type": "stream",
     "text": [
      "Sieg Heimmannschaft Wolfsburg: 27.326162342670145 %\n",
      "Sieg Auswärtmannschaft Bayern: 48.75866233492213 %\n",
      "Unentschieden: 23.91391583071526 %\n"
     ]
    }
   ],
   "source": [
    "Unent = 0\n",
    "HeimSieg = 0\n",
    "AusSieg = 0\n",
    "GroßeZahl = 10 #damit man 100% annähert\n",
    "\n",
    "for TheoHeimTore in range(0,GroßeZahl):\n",
    "    for TheoAusTore in range(0,GroßeZahl):\n",
    "        \n",
    "        if TheoHeimTore == TheoAusTore:\n",
    "            Unent = Unent + poisson(TheoHeimTore, PrgTorHeim)*poisson(TheoAusTore, PrgTorAus)\n",
    "            \n",
    "        if TheoHeimTore < TheoAusTore:\n",
    "            AusSieg = AusSieg + poisson(TheoHeimTore, PrgTorHeim)*poisson(TheoAusTore, PrgTorAus)\n",
    "            \n",
    "        if TheoHeimTore > TheoAusTore:\n",
    "            HeimSieg = HeimSieg + poisson(TheoHeimTore, PrgTorHeim)*poisson(TheoAusTore, PrgTorAus)\n",
    "        \n",
    "        \n",
    "print( \"Sieg Heimmannschaft \" + HeimMannschaft + \": \"+ str(HeimSieg*100) + \" %\")\n",
    "print( \"Sieg Auswärtmannschaft \" + AusMannschaft + \": \"+ str(AusSieg*100) + \" %\")\n",
    "print( \"Unentschieden: \"+ str(Unent*100) + \" %\")"
   ]
  },
  {
   "cell_type": "code",
   "execution_count": null,
   "metadata": {},
   "outputs": [],
   "source": []
  }
 ],
 "metadata": {
  "kernelspec": {
   "display_name": "Python 3",
   "language": "python",
   "name": "python3"
  },
  "language_info": {
   "codemirror_mode": {
    "name": "ipython",
    "version": 3
   },
   "file_extension": ".py",
   "mimetype": "text/x-python",
   "name": "python",
   "nbconvert_exporter": "python",
   "pygments_lexer": "ipython3",
   "version": "3.7.1"
  }
 },
 "nbformat": 4,
 "nbformat_minor": 2
}
